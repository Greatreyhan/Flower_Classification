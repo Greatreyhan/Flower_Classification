{
  "nbformat": 4,
  "nbformat_minor": 0,
  "metadata": {
    "colab": {
      "provenance": [],
      "gpuType": "T4",
      "authorship_tag": "ABX9TyNPMSr7vPpbFtyeh+26bmfK",
      "include_colab_link": true
    },
    "kernelspec": {
      "name": "python3",
      "display_name": "Python 3"
    },
    "language_info": {
      "name": "python"
    },
    "accelerator": "GPU"
  },
  "cells": [
    {
      "cell_type": "markdown",
      "metadata": {
        "id": "view-in-github",
        "colab_type": "text"
      },
      "source": [
        "<a href=\"https://colab.research.google.com/github/Greatreyhan/Flower_Classification/blob/master/main.ipynb\" target=\"_parent\"><img src=\"https://colab.research.google.com/assets/colab-badge.svg\" alt=\"Open In Colab\"/></a>"
      ]
    },
    {
      "cell_type": "code",
      "execution_count": 1,
      "metadata": {
        "id": "MFI5wtmK9Bzr"
      },
      "outputs": [],
      "source": [
        "import matplotlib.pyplot as plt\n",
        "import numpy as np\n",
        "import PIL\n",
        "import tensorflow as tf\n",
        "from tensorflow import keras"
      ]
    },
    {
      "cell_type": "code",
      "source": [
        "import pathlib\n",
        "dataset_url = \"https://storage.googleapis.com/download.tensorflow.org/example_images/flower_photos.tgz\"\n",
        "data_dir = tf.keras.utils.get_file('flower_photos.tar', origin=dataset_url, extract=True)\n",
        "data_dir = pathlib.Path(data_dir).with_suffix('')\n"
      ],
      "metadata": {
        "colab": {
          "base_uri": "https://localhost:8080/"
        },
        "id": "Kvytsg5695hS",
        "outputId": "c43b5108-3674-42b9-ab69-dc2785757de9"
      },
      "execution_count": 2,
      "outputs": [
        {
          "output_type": "stream",
          "name": "stdout",
          "text": [
            "Downloading data from https://storage.googleapis.com/download.tensorflow.org/example_images/flower_photos.tgz\n",
            "228813984/228813984 [==============================] - 3s 0us/step\n"
          ]
        }
      ]
    },
    {
      "cell_type": "code",
      "source": [
        "import os\n",
        "\n",
        "base_dir = './'\n",
        "daisy_dir = os.path.join(data_dir,'daisy')\n",
        "dandelion_dir = os.path.join(data_dir,'dandelion')\n",
        "roses_dir = os.path.join(data_dir,'roses')\n",
        "sunflowers_dir = os.path.join(data_dir,'sunflowers')\n",
        "tulips_dir = os.path.join(data_dir,'tulips')\n",
        "\n",
        "daisy_training_dir = os.path.join(base_dir,'training/daisy')\n",
        "os.makedirs(daisy_training_dir)\n",
        "dandelion_training_dir = os.path.join(base_dir,'training/dandelion')\n",
        "os.makedirs(dandelion_training_dir)\n",
        "roses_training_dir = os.path.join(base_dir,'training/roses')\n",
        "os.makedirs(roses_training_dir)\n",
        "sunflowers_training_dir = os.path.join(base_dir,'training/sunflowers')\n",
        "os.makedirs(sunflowers_training_dir)\n",
        "tulips_training_dir = os.path.join(base_dir,'training/tulips')\n",
        "os.makedirs(tulips_training_dir)\n",
        "\n",
        "daisy_validation_dir = os.path.join(base_dir,'validation/daisy')\n",
        "os.makedirs(daisy_validation_dir)\n",
        "dandelion_validation_dir = os.path.join(base_dir,'validation/dandelion')\n",
        "os.makedirs(dandelion_validation_dir)\n",
        "roses_validation_dir = os.path.join(base_dir,'validation/roses')\n",
        "os.makedirs(roses_validation_dir)\n",
        "sunflowers_validation_dir = os.path.join(base_dir,'validation/sunflowers')\n",
        "os.makedirs(sunflowers_validation_dir)\n",
        "tulips_validation_dir = os.path.join(base_dir,'validation/tulips')\n",
        "os.makedirs(tulips_validation_dir)\n",
        "\n",
        "daisy_testing_dir = os.path.join(base_dir,'testing/daisy')\n",
        "os.makedirs(daisy_testing_dir)\n",
        "dandelion_testing_dir = os.path.join(base_dir,'testing/dandelion')\n",
        "os.makedirs(dandelion_testing_dir)\n",
        "roses_testing_dir = os.path.join(base_dir,'testing/roses')\n",
        "os.makedirs(roses_testing_dir)\n",
        "sunflowers_testing_dir = os.path.join(base_dir,'testing/sunflowers')\n",
        "os.makedirs(sunflowers_testing_dir)\n",
        "tulips_testing_dir = os.path.join(base_dir,'testing/tulips')\n",
        "os.makedirs(tulips_testing_dir)\n"
      ],
      "metadata": {
        "id": "qgRwYfJb94Uy"
      },
      "execution_count": 3,
      "outputs": []
    },
    {
      "cell_type": "code",
      "source": [
        "print('total training daisy images :', len(os.listdir(daisy_dir)))\n",
        "print('total training dandelion images :', len(os.listdir(dandelion_dir)))\n",
        "print('total training roses images :', len(os.listdir(roses_dir)))\n",
        "print('total training sunflowers images :', len(os.listdir(sunflowers_dir)))\n",
        "print('total training tulips images :', len(os.listdir(tulips_dir)))"
      ],
      "metadata": {
        "colab": {
          "base_uri": "https://localhost:8080/"
        },
        "id": "n1_4KKTsx74F",
        "outputId": "a79e739c-9ff2-4c2b-c4f5-6b3de58ad655"
      },
      "execution_count": 4,
      "outputs": [
        {
          "output_type": "stream",
          "name": "stdout",
          "text": [
            "total training daisy images : 633\n",
            "total training dandelion images : 898\n",
            "total training roses images : 641\n",
            "total training sunflowers images : 699\n",
            "total training tulips images : 799\n"
          ]
        }
      ]
    },
    {
      "cell_type": "code",
      "source": [
        "f_daisy = [os.rename(os.path.join(daisy_dir, fname), os.path.join(daisy_training_dir, fname)) for fname in os.listdir(daisy_dir)[:int(2*len(os.listdir(daisy_dir))/3)]]\n",
        "f_dandelion = [os.rename(os.path.join(dandelion_dir, fname), os.path.join(dandelion_training_dir, fname)) for fname in os.listdir(dandelion_dir)[:int(2*len(os.listdir(dandelion_dir))/3)]]\n",
        "f_roses = [os.rename(os.path.join(roses_dir, fname), os.path.join(roses_training_dir, fname)) for fname in os.listdir(roses_dir)[:int(2*len(os.listdir(roses_dir))/3)]]\n",
        "f_sunflowers = [os.rename(os.path.join(sunflowers_dir, fname), os.path.join(sunflowers_training_dir, fname)) for fname in os.listdir(sunflowers_dir)[:int(2*len(os.listdir(sunflowers_dir))/3)]]\n",
        "f_tulips = [os.rename(os.path.join(tulips_dir, fname), os.path.join(tulips_training_dir, fname)) for fname in os.listdir(tulips_dir)[:int(2*len(os.listdir(tulips_dir))/3)]]"
      ],
      "metadata": {
        "id": "4VCwK4UKnZGC"
      },
      "execution_count": 5,
      "outputs": []
    },
    {
      "cell_type": "code",
      "source": [
        "print('total training daisy images :', len(os.listdir(daisy_training_dir)))\n",
        "print('total training dandelion images :', len(os.listdir(dandelion_training_dir)))\n",
        "print('total training roses images :', len(os.listdir(roses_training_dir)))\n",
        "print('total training sunflowers images :', len(os.listdir(sunflowers_training_dir)))\n",
        "print('total training tulips images :', len(os.listdir(tulips_training_dir)))"
      ],
      "metadata": {
        "colab": {
          "base_uri": "https://localhost:8080/"
        },
        "id": "oEo7RWc8xpUm",
        "outputId": "4ef67082-05c0-40c2-e839-45cea39e2005"
      },
      "execution_count": 6,
      "outputs": [
        {
          "output_type": "stream",
          "name": "stdout",
          "text": [
            "total training daisy images : 422\n",
            "total training dandelion images : 598\n",
            "total training roses images : 427\n",
            "total training sunflowers images : 466\n",
            "total training tulips images : 532\n"
          ]
        }
      ]
    },
    {
      "cell_type": "code",
      "source": [
        "f_daisy = [os.rename(os.path.join(daisy_dir, fname), os.path.join(daisy_validation_dir, fname)) for fname in os.listdir(daisy_dir)]\n",
        "f_dandelion = [os.rename(os.path.join(dandelion_dir, fname), os.path.join(dandelion_validation_dir, fname)) for fname in os.listdir(dandelion_dir)]\n",
        "f_roses = [os.rename(os.path.join(roses_dir, fname), os.path.join(roses_validation_dir, fname)) for fname in os.listdir(roses_dir)]\n",
        "f_sunflowers = [os.rename(os.path.join(sunflowers_dir, fname), os.path.join(sunflowers_validation_dir, fname)) for fname in os.listdir(sunflowers_dir)]\n",
        "f_tulips = [os.rename(os.path.join(tulips_dir, fname), os.path.join(tulips_validation_dir, fname)) for fname in os.listdir(tulips_dir)]"
      ],
      "metadata": {
        "id": "meyfZ2i70VmT"
      },
      "execution_count": 7,
      "outputs": []
    },
    {
      "cell_type": "code",
      "source": [
        "print('total validation daisy images :', len(os.listdir(daisy_validation_dir)))\n",
        "print('total validation dandelion images :', len(os.listdir(dandelion_validation_dir)))\n",
        "print('total validation roses images :', len(os.listdir(roses_validation_dir)))\n",
        "print('total validation sunflowers images :', len(os.listdir(sunflowers_validation_dir)))\n",
        "print('total validation tulips images :', len(os.listdir(tulips_validation_dir)))"
      ],
      "metadata": {
        "id": "2dxme48OrN1h",
        "colab": {
          "base_uri": "https://localhost:8080/"
        },
        "outputId": "8d129ea9-a1ab-4677-b9b7-4f4becb1239e"
      },
      "execution_count": 8,
      "outputs": [
        {
          "output_type": "stream",
          "name": "stdout",
          "text": [
            "total validation daisy images : 211\n",
            "total validation dandelion images : 300\n",
            "total validation roses images : 214\n",
            "total validation sunflowers images : 233\n",
            "total validation tulips images : 267\n"
          ]
        }
      ]
    },
    {
      "cell_type": "code",
      "source": [
        "from tensorflow.keras.preprocessing.image import ImageDataGenerator\n",
        "\n",
        "TRAINING_DIR = os.path.join(base_dir,'training')\n",
        "training_datagen = ImageDataGenerator(\n",
        "    rescale=1./255,\n",
        "    rotation_range = 40,\n",
        "    width_shift_range=0.2,\n",
        "    height_shift_range=0.2,\n",
        "    shear_range=0.2,\n",
        "    zoom_range=0.2,\n",
        "    horizontal_flip=True,\n",
        "    fill_mode='nearest'\n",
        ")\n",
        "VALIDATION_DIR = os.path.join(base_dir,'validation')\n",
        "validation_datagen = ImageDataGenerator(rescale=1./255)\n",
        "\n",
        "train_generator = training_datagen.flow_from_directory(\n",
        "    TRAINING_DIR,\n",
        "    target_size=(150,150),\n",
        "    class_mode='categorical',\n",
        "    batch_size=126\n",
        ")\n",
        "\n",
        "validation_generator = validation_datagen.flow_from_directory(\n",
        "    VALIDATION_DIR,\n",
        "    target_size=(150,150),\n",
        "    class_mode='categorical',\n",
        "    batch_size=126\n",
        ")"
      ],
      "metadata": {
        "colab": {
          "base_uri": "https://localhost:8080/"
        },
        "id": "CnZSH0E92JtU",
        "outputId": "da15309d-d700-4623-eaf8-f23f9b5a2754"
      },
      "execution_count": 9,
      "outputs": [
        {
          "output_type": "stream",
          "name": "stdout",
          "text": [
            "Found 2445 images belonging to 5 classes.\n",
            "Found 1225 images belonging to 5 classes.\n"
          ]
        }
      ]
    },
    {
      "cell_type": "code",
      "source": [
        "model = tf.keras.models.Sequential([\n",
        "    tf.keras.layers.Conv2D(64, (3,3), activation='relu', input_shape=(150,150,3)),\n",
        "    tf.keras.layers.MaxPooling2D(2,2),\n",
        "    tf.keras.layers.Conv2D(64, (3,3), activation='relu'),\n",
        "    tf.keras.layers.MaxPooling2D(2,2),\n",
        "    tf.keras.layers.Conv2D(128, (3,3), activation='relu'),\n",
        "    tf.keras.layers.MaxPooling2D(2,2),\n",
        "    tf.keras.layers.Conv2D(128, (3,3), activation='relu'),\n",
        "    tf.keras.layers.MaxPooling2D(2,2),\n",
        "    tf.keras.layers.Flatten(),\n",
        "    tf.keras.layers.Dropout(0.5),\n",
        "    tf.keras.layers.Dense(512, activation='relu'),\n",
        "    tf.keras.layers.Dense(5, activation='softmax')\n",
        "])\n",
        "\n",
        "model.summary()"
      ],
      "metadata": {
        "colab": {
          "base_uri": "https://localhost:8080/"
        },
        "id": "-8trnBwa3wsx",
        "outputId": "a1ae977d-6e96-45a8-ea41-f86d65bd2bb8"
      },
      "execution_count": 10,
      "outputs": [
        {
          "output_type": "stream",
          "name": "stdout",
          "text": [
            "Model: \"sequential\"\n",
            "_________________________________________________________________\n",
            " Layer (type)                Output Shape              Param #   \n",
            "=================================================================\n",
            " conv2d (Conv2D)             (None, 148, 148, 64)      1792      \n",
            "                                                                 \n",
            " max_pooling2d (MaxPooling2  (None, 74, 74, 64)        0         \n",
            " D)                                                              \n",
            "                                                                 \n",
            " conv2d_1 (Conv2D)           (None, 72, 72, 64)        36928     \n",
            "                                                                 \n",
            " max_pooling2d_1 (MaxPoolin  (None, 36, 36, 64)        0         \n",
            " g2D)                                                            \n",
            "                                                                 \n",
            " conv2d_2 (Conv2D)           (None, 34, 34, 128)       73856     \n",
            "                                                                 \n",
            " max_pooling2d_2 (MaxPoolin  (None, 17, 17, 128)       0         \n",
            " g2D)                                                            \n",
            "                                                                 \n",
            " conv2d_3 (Conv2D)           (None, 15, 15, 128)       147584    \n",
            "                                                                 \n",
            " max_pooling2d_3 (MaxPoolin  (None, 7, 7, 128)         0         \n",
            " g2D)                                                            \n",
            "                                                                 \n",
            " flatten (Flatten)           (None, 6272)              0         \n",
            "                                                                 \n",
            " dropout (Dropout)           (None, 6272)              0         \n",
            "                                                                 \n",
            " dense (Dense)               (None, 512)               3211776   \n",
            "                                                                 \n",
            " dense_1 (Dense)             (None, 5)                 2565      \n",
            "                                                                 \n",
            "=================================================================\n",
            "Total params: 3474501 (13.25 MB)\n",
            "Trainable params: 3474501 (13.25 MB)\n",
            "Non-trainable params: 0 (0.00 Byte)\n",
            "_________________________________________________________________\n"
          ]
        }
      ]
    },
    {
      "cell_type": "code",
      "source": [
        "model.compile(loss=\"categorical_crossentropy\", optimizer=\"adam\", metrics=['accuracy'])"
      ],
      "metadata": {
        "id": "1lX0f1Z84m5W"
      },
      "execution_count": 11,
      "outputs": []
    },
    {
      "cell_type": "code",
      "source": [
        "history = model.fit(train_generator, epochs=50, steps_per_epoch=20, validation_data = validation_generator, verbose = 1, validation_steps=3)"
      ],
      "metadata": {
        "colab": {
          "base_uri": "https://localhost:8080/"
        },
        "id": "jt8PzOtS4xjS",
        "outputId": "27060427-626f-4380-df00-e859750e2b64"
      },
      "execution_count": 13,
      "outputs": [
        {
          "output_type": "stream",
          "name": "stdout",
          "text": [
            "Epoch 1/50\n",
            "20/20 [==============================] - 20s 999ms/step - loss: 0.6404 - accuracy: 0.7431 - val_loss: 0.6718 - val_accuracy: 0.7698\n",
            "Epoch 2/50\n",
            "20/20 [==============================] - 21s 1s/step - loss: 0.6005 - accuracy: 0.7583 - val_loss: 0.6189 - val_accuracy: 0.7487\n",
            "Epoch 3/50\n",
            "20/20 [==============================] - 19s 972ms/step - loss: 0.6021 - accuracy: 0.7685 - val_loss: 0.5858 - val_accuracy: 0.7725\n",
            "Epoch 4/50\n",
            "20/20 [==============================] - 21s 1s/step - loss: 0.6015 - accuracy: 0.7648 - val_loss: 0.8135 - val_accuracy: 0.6984\n",
            "Epoch 5/50\n",
            "20/20 [==============================] - 20s 984ms/step - loss: 0.5964 - accuracy: 0.7685 - val_loss: 0.7344 - val_accuracy: 0.7354\n",
            "Epoch 6/50\n",
            "20/20 [==============================] - 21s 1s/step - loss: 0.5700 - accuracy: 0.7779 - val_loss: 0.7649 - val_accuracy: 0.7196\n",
            "Epoch 7/50\n",
            "20/20 [==============================] - 20s 977ms/step - loss: 0.5629 - accuracy: 0.7779 - val_loss: 0.7462 - val_accuracy: 0.7593\n",
            "Epoch 8/50\n",
            "20/20 [==============================] - 19s 975ms/step - loss: 0.5738 - accuracy: 0.7722 - val_loss: 0.7509 - val_accuracy: 0.7513\n",
            "Epoch 9/50\n",
            "20/20 [==============================] - 20s 961ms/step - loss: 0.5793 - accuracy: 0.7616 - val_loss: 0.6365 - val_accuracy: 0.7460\n",
            "Epoch 10/50\n",
            "20/20 [==============================] - 20s 988ms/step - loss: 0.5594 - accuracy: 0.7808 - val_loss: 0.6083 - val_accuracy: 0.7804\n",
            "Epoch 11/50\n",
            "20/20 [==============================] - 20s 962ms/step - loss: 0.5575 - accuracy: 0.7832 - val_loss: 0.7391 - val_accuracy: 0.7275\n",
            "Epoch 12/50\n",
            "20/20 [==============================] - 19s 960ms/step - loss: 0.5368 - accuracy: 0.7832 - val_loss: 0.6409 - val_accuracy: 0.7407\n",
            "Epoch 13/50\n",
            "20/20 [==============================] - 21s 996ms/step - loss: 0.5162 - accuracy: 0.7975 - val_loss: 0.6079 - val_accuracy: 0.7725\n",
            "Epoch 14/50\n",
            "20/20 [==============================] - 19s 973ms/step - loss: 0.4982 - accuracy: 0.8074 - val_loss: 0.7046 - val_accuracy: 0.7460\n",
            "Epoch 15/50\n",
            "20/20 [==============================] - 21s 1s/step - loss: 0.5434 - accuracy: 0.7857 - val_loss: 0.6850 - val_accuracy: 0.7275\n",
            "Epoch 16/50\n",
            "20/20 [==============================] - 20s 976ms/step - loss: 0.5006 - accuracy: 0.7996 - val_loss: 0.5708 - val_accuracy: 0.7751\n",
            "Epoch 17/50\n",
            "20/20 [==============================] - 20s 1s/step - loss: 0.5222 - accuracy: 0.8029 - val_loss: 0.6978 - val_accuracy: 0.7513\n",
            "Epoch 18/50\n",
            "20/20 [==============================] - 20s 969ms/step - loss: 0.4984 - accuracy: 0.8008 - val_loss: 0.6324 - val_accuracy: 0.7778\n",
            "Epoch 19/50\n",
            "20/20 [==============================] - 20s 976ms/step - loss: 0.5020 - accuracy: 0.7975 - val_loss: 0.8769 - val_accuracy: 0.7381\n",
            "Epoch 20/50\n",
            "20/20 [==============================] - 20s 964ms/step - loss: 0.4840 - accuracy: 0.8070 - val_loss: 0.7529 - val_accuracy: 0.7487\n",
            "Epoch 21/50\n",
            "20/20 [==============================] - 19s 965ms/step - loss: 0.4669 - accuracy: 0.8315 - val_loss: 0.7444 - val_accuracy: 0.7381\n",
            "Epoch 22/50\n",
            "20/20 [==============================] - 21s 1s/step - loss: 0.4688 - accuracy: 0.8160 - val_loss: 0.7363 - val_accuracy: 0.7672\n",
            "Epoch 23/50\n",
            "20/20 [==============================] - 20s 986ms/step - loss: 0.4336 - accuracy: 0.8311 - val_loss: 0.6026 - val_accuracy: 0.7804\n",
            "Epoch 24/50\n",
            "20/20 [==============================] - 20s 978ms/step - loss: 0.4676 - accuracy: 0.8160 - val_loss: 0.5751 - val_accuracy: 0.7963\n",
            "Epoch 25/50\n",
            "20/20 [==============================] - 21s 1s/step - loss: 0.4570 - accuracy: 0.8168 - val_loss: 0.5926 - val_accuracy: 0.7778\n",
            "Epoch 26/50\n",
            "20/20 [==============================] - 19s 967ms/step - loss: 0.4203 - accuracy: 0.8315 - val_loss: 0.6408 - val_accuracy: 0.7619\n",
            "Epoch 27/50\n",
            "20/20 [==============================] - 21s 1s/step - loss: 0.4437 - accuracy: 0.8352 - val_loss: 0.5938 - val_accuracy: 0.7831\n",
            "Epoch 28/50\n",
            "20/20 [==============================] - 21s 1s/step - loss: 0.4199 - accuracy: 0.8278 - val_loss: 0.5970 - val_accuracy: 0.7884\n",
            "Epoch 29/50\n",
            "20/20 [==============================] - 19s 960ms/step - loss: 0.4145 - accuracy: 0.8393 - val_loss: 0.7182 - val_accuracy: 0.7540\n",
            "Epoch 30/50\n",
            "20/20 [==============================] - 22s 1s/step - loss: 0.4643 - accuracy: 0.8282 - val_loss: 0.6840 - val_accuracy: 0.7672\n",
            "Epoch 31/50\n",
            "20/20 [==============================] - 19s 949ms/step - loss: 0.3985 - accuracy: 0.8339 - val_loss: 0.7422 - val_accuracy: 0.7672\n",
            "Epoch 32/50\n",
            "20/20 [==============================] - 21s 1s/step - loss: 0.4129 - accuracy: 0.8450 - val_loss: 0.6681 - val_accuracy: 0.7566\n",
            "Epoch 33/50\n",
            "20/20 [==============================] - 21s 1s/step - loss: 0.4091 - accuracy: 0.8372 - val_loss: 0.7897 - val_accuracy: 0.7540\n",
            "Epoch 34/50\n",
            "20/20 [==============================] - 21s 1s/step - loss: 0.3929 - accuracy: 0.8503 - val_loss: 0.8384 - val_accuracy: 0.7831\n",
            "Epoch 35/50\n",
            "20/20 [==============================] - 20s 978ms/step - loss: 0.3889 - accuracy: 0.8544 - val_loss: 0.6517 - val_accuracy: 0.7857\n",
            "Epoch 36/50\n",
            "20/20 [==============================] - 21s 1s/step - loss: 0.3822 - accuracy: 0.8532 - val_loss: 0.8964 - val_accuracy: 0.7381\n",
            "Epoch 37/50\n",
            "20/20 [==============================] - 19s 961ms/step - loss: 0.3949 - accuracy: 0.8548 - val_loss: 0.6028 - val_accuracy: 0.8016\n",
            "Epoch 38/50\n",
            "20/20 [==============================] - 21s 1s/step - loss: 0.3567 - accuracy: 0.8593 - val_loss: 0.5433 - val_accuracy: 0.8095\n",
            "Epoch 39/50\n",
            "20/20 [==============================] - 19s 971ms/step - loss: 0.3183 - accuracy: 0.8798 - val_loss: 0.6649 - val_accuracy: 0.7857\n",
            "Epoch 40/50\n",
            "20/20 [==============================] - 20s 992ms/step - loss: 0.3647 - accuracy: 0.8597 - val_loss: 0.7569 - val_accuracy: 0.7804\n",
            "Epoch 41/50\n",
            "20/20 [==============================] - 19s 929ms/step - loss: 0.3789 - accuracy: 0.8569 - val_loss: 0.6136 - val_accuracy: 0.7884\n",
            "Epoch 42/50\n",
            "20/20 [==============================] - 20s 977ms/step - loss: 0.3754 - accuracy: 0.8564 - val_loss: 0.7160 - val_accuracy: 0.7672\n",
            "Epoch 43/50\n",
            "20/20 [==============================] - 19s 947ms/step - loss: 0.3705 - accuracy: 0.8626 - val_loss: 0.6147 - val_accuracy: 0.7910\n",
            "Epoch 44/50\n",
            "20/20 [==============================] - 19s 927ms/step - loss: 0.3646 - accuracy: 0.8609 - val_loss: 0.7349 - val_accuracy: 0.7857\n",
            "Epoch 45/50\n",
            "20/20 [==============================] - 19s 976ms/step - loss: 0.3378 - accuracy: 0.8712 - val_loss: 0.7434 - val_accuracy: 0.7698\n",
            "Epoch 46/50\n",
            "20/20 [==============================] - 19s 951ms/step - loss: 0.3665 - accuracy: 0.8585 - val_loss: 0.5918 - val_accuracy: 0.8042\n",
            "Epoch 47/50\n",
            "20/20 [==============================] - 19s 973ms/step - loss: 0.3315 - accuracy: 0.8716 - val_loss: 0.5864 - val_accuracy: 0.8122\n",
            "Epoch 48/50\n",
            "20/20 [==============================] - 19s 954ms/step - loss: 0.3315 - accuracy: 0.8687 - val_loss: 0.6377 - val_accuracy: 0.8042\n",
            "Epoch 49/50\n",
            "20/20 [==============================] - 20s 951ms/step - loss: 0.3667 - accuracy: 0.8634 - val_loss: 0.6156 - val_accuracy: 0.8095\n",
            "Epoch 50/50\n",
            "20/20 [==============================] - 20s 980ms/step - loss: 0.3189 - accuracy: 0.8769 - val_loss: 0.6381 - val_accuracy: 0.7937\n"
          ]
        }
      ]
    },
    {
      "cell_type": "code",
      "source": [
        "import matplotlib.pyplot as plt\n",
        "\n",
        "# Plot the results\n",
        "acc = history.history['accuracy']\n",
        "val_acc = history.history['val_accuracy']\n",
        "loss = history.history['loss']\n",
        "val_loss = history.history['val_loss']\n",
        "\n",
        "epochs = range(len(acc))\n",
        "\n",
        "plt.plot(epochs, acc, 'r', label='Training accuracy')\n",
        "plt.plot(epochs, val_acc, 'b', label='Validation accuracy')\n",
        "plt.title('Training and validation accuracy')\n",
        "plt.legend(loc=0)\n",
        "plt.figure()\n",
        "\n",
        "plt.show()"
      ],
      "metadata": {
        "id": "OhMp4QEqDkq-",
        "outputId": "798c79b7-8c14-49fb-e2dc-87568fe9385a",
        "colab": {
          "base_uri": "https://localhost:8080/",
          "height": 469
        }
      },
      "execution_count": 14,
      "outputs": [
        {
          "output_type": "display_data",
          "data": {
            "text/plain": [
              "<Figure size 640x480 with 1 Axes>"
            ],
            "image/png": "[encoded data removed]"
          },
          "metadata": {}
        },
        {
          "output_type": "display_data",
          "data": {
            "text/plain": [
              "<Figure size 640x480 with 0 Axes>"
            ]
          },
          "metadata": {}
        }
      ]
    },
    {
      "cell_type": "code",
      "source": [
        "import numpy as np\n",
        "from google.colab import files\n",
        "from tensorflow.keras.utils import load_img, img_to_array\n",
        "\n",
        "uploaded = files.upload()\n",
        "\n",
        "for fn in uploaded.keys():\n",
        "\n",
        "  # predicting images\n",
        "  path = fn\n",
        "  img = load_img(path, target_size=(150, 150))\n",
        "  x = img_to_array(img)\n",
        "  x = np.expand_dims(x, axis=0)\n",
        "\n",
        "  images = np.vstack([x])\n",
        "  classes = model.predict(images, batch_size=10)\n",
        "  print(fn)\n",
        "  print(classes)"
      ],
      "metadata": {
        "id": "xXgftOexDtg4",
        "outputId": "f9979c7d-2083-4384-8b48-2482d8a41473",
        "colab": {
          "base_uri": "https://localhost:8080/",
          "height": 125
        }
      },
      "execution_count": 19,
      "outputs": [
        {
          "output_type": "display_data",
          "data": {
            "text/plain": [
              "<IPython.core.display.HTML object>"
            ],
            "text/html": [
              "\n",
              "     <input type=\"file\" id=\"files-1c0f3dd0-187d-40b8-903d-5a0f903d9bd3\" name=\"files[]\" multiple disabled\n",
              "        style=\"border:none\" />\n",
              "     <output id=\"result-1c0f3dd0-187d-40b8-903d-5a0f903d9bd3\">\n",
              "      Upload widget is only available when the cell has been executed in the\n",
              "      current browser session. Please rerun this cell to enable.\n",
              "      </output>\n",
              "      <script>// Copyright 2017 Google LLC\n",
              "//\n",
              "// Licensed under the Apache License, Version 2.0 (the \"License\");\n",
              "// you may not use this file except in compliance with the License.\n",
              "// You may obtain a copy of the License at\n",
              "//\n",
              "//      http://www.apache.org/licenses/LICENSE-2.0\n",
              "//\n",
              "// Unless required by applicable law or agreed to in writing, software\n",
              "// distributed under the License is distributed on an \"AS IS\" BASIS,\n",
              "// WITHOUT WARRANTIES OR CONDITIONS OF ANY KIND, either express or implied.\n",
              "// See the License for the specific language governing permissions and\n",
              "// limitations under the License.\n",
              "\n",
              "/**\n",
              " * @fileoverview Helpers for google.colab Python module.\n",
              " */\n",
              "(function(scope) {\n",
              "function span(text, styleAttributes = {}) {\n",
              "  const element = document.createElement('span');\n",
              "  element.textContent = text;\n",
              "  for (const key of Object.keys(styleAttributes)) {\n",
              "    element.style[key] = styleAttributes[key];\n",
              "  }\n",
              "  return element;\n",
              "}\n",
              "\n",
              "// Max number of bytes which will be uploaded at a time.\n",
              "const MAX_PAYLOAD_SIZE = 100 * 1024;\n",
              "\n",
              "function _uploadFiles(inputId, outputId) {\n",
              "  const steps = uploadFilesStep(inputId, outputId);\n",
              "  const outputElement = document.getElementById(outputId);\n",
              "  // Cache steps on the outputElement to make it available for the next call\n",
              "  // to uploadFilesContinue from Python.\n",
              "  outputElement.steps = steps;\n",
              "\n",
              "  return _uploadFilesContinue(outputId);\n",
              "}\n",
              "\n",
              "// This is roughly an async generator (not supported in the browser yet),\n",
              "// where there are multiple asynchronous steps and the Python side is going\n",
              "// to poll for completion of each step.\n",
              "// This uses a Promise to block the python side on completion of each step,\n",
              "// then passes the result of the previous step as the input to the next step.\n",
              "function _uploadFilesContinue(outputId) {\n",
              "  const outputElement = document.getElementById(outputId);\n",
              "  const steps = outputElement.steps;\n",
              "\n",
              "  const next = steps.next(outputElement.lastPromiseValue);\n",
              "  return Promise.resolve(next.value.promise).then((value) => {\n",
              "    // Cache the last promise value to make it available to the next\n",
              "    // step of the generator.\n",
              "    outputElement.lastPromiseValue = value;\n",
              "    return next.value.response;\n",
              "  });\n",
              "}\n",
              "\n",
              "/**\n",
              " * Generator function which is called between each async step of the upload\n",
              " * process.\n",
              " * @param {string} inputId Element ID of the input file picker element.\n",
              " * @param {string} outputId Element ID of the output display.\n",
              " * @return {!Iterable<!Object>} Iterable of next steps.\n",
              " */\n",
              "function* uploadFilesStep(inputId, outputId) {\n",
              "  const inputElement = document.getElementById(inputId);\n",
              "  inputElement.disabled = false;\n",
              "\n",
              "  const outputElement = document.getElementById(outputId);\n",
              "  outputElement.innerHTML = '';\n",
              "\n",
              "  const pickedPromise = new Promise((resolve) => {\n",
              "    inputElement.addEventListener('change', (e) => {\n",
              "      resolve(e.target.files);\n",
              "    });\n",
              "  });\n",
              "\n",
              "  const cancel = document.createElement('button');\n",
              "  inputElement.parentElement.appendChild(cancel);\n",
              "  cancel.textContent = 'Cancel upload';\n",
              "  const cancelPromise = new Promise((resolve) => {\n",
              "    cancel.onclick = () => {\n",
              "      resolve(null);\n",
              "    };\n",
              "  });\n",
              "\n",
              "  // Wait for the user to pick the files.\n",
              "  const files = yield {\n",
              "    promise: Promise.race([pickedPromise, cancelPromise]),\n",
              "    response: {\n",
              "      action: 'starting',\n",
              "    }\n",
              "  };\n",
              "\n",
              "  cancel.remove();\n",
              "\n",
              "  // Disable the input element since further picks are not allowed.\n",
              "  inputElement.disabled = true;\n",
              "\n",
              "  if (!files) {\n",
              "    return {\n",
              "      response: {\n",
              "        action: 'complete',\n",
              "      }\n",
              "    };\n",
              "  }\n",
              "\n",
              "  for (const file of files) {\n",
              "    const li = document.createElement('li');\n",
              "    li.append(span(file.name, {fontWeight: 'bold'}));\n",
              "    li.append(span(\n",
              "        `(${file.type || 'n/a'}) - ${file.size} bytes, ` +\n",
              "        `last modified: ${\n",
              "            file.lastModifiedDate ? file.lastModifiedDate.toLocaleDateString() :\n",
              "                                    'n/a'} - `));\n",
              "    const percent = span('0% done');\n",
              "    li.appendChild(percent);\n",
              "\n",
              "    outputElement.appendChild(li);\n",
              "\n",
              "    const fileDataPromise = new Promise((resolve) => {\n",
              "      const reader = new FileReader();\n",
              "      reader.onload = (e) => {\n",
              "        resolve(e.target.result);\n",
              "      };\n",
              "      reader.readAsArrayBuffer(file);\n",
              "    });\n",
              "    // Wait for the data to be ready.\n",
              "    let fileData = yield {\n",
              "      promise: fileDataPromise,\n",
              "      response: {\n",
              "        action: 'continue',\n",
              "      }\n",
              "    };\n",
              "\n",
              "    // Use a chunked sending to avoid message size limits. See b/62115660.\n",
              "    let position = 0;\n",
              "    do {\n",
              "      const length = Math.min(fileData.byteLength - position, MAX_PAYLOAD_SIZE);\n",
              "      const chunk = new Uint8Array(fileData, position, length);\n",
              "      position += length;\n",
              "\n",
              "      const base64 = btoa(String.fromCharCode.apply(null, chunk));\n",
              "      yield {\n",
              "        response: {\n",
              "          action: 'append',\n",
              "          file: file.name,\n",
              "          data: base64,\n",
              "        },\n",
              "      };\n",
              "\n",
              "      let percentDone = fileData.byteLength === 0 ?\n",
              "          100 :\n",
              "          Math.round((position / fileData.byteLength) * 100);\n",
              "      percent.textContent = `${percentDone}% done`;\n",
              "\n",
              "    } while (position < fileData.byteLength);\n",
              "  }\n",
              "\n",
              "  // All done.\n",
              "  yield {\n",
              "    response: {\n",
              "      action: 'complete',\n",
              "    }\n",
              "  };\n",
              "}\n",
              "\n",
              "scope.google = scope.google || {};\n",
              "scope.google.colab = scope.google.colab || {};\n",
              "scope.google.colab._files = {\n",
              "  _uploadFiles,\n",
              "  _uploadFilesContinue,\n",
              "};\n",
              "})(self);\n",
              "</script> "
            ]
          },
          "metadata": {}
        },
        {
          "output_type": "stream",
          "name": "stdout",
          "text": [
            "Saving herbert-goetsch-SGKQh9wNgAk-unsplash1500.1000-1080x675.jpg to herbert-goetsch-SGKQh9wNgAk-unsplash1500.1000-1080x675.jpg\n",
            "1/1 [==============================] - 0s 25ms/step\n",
            "herbert-goetsch-SGKQh9wNgAk-unsplash1500.1000-1080x675.jpg\n",
            "[[1. 0. 0. 0. 0.]]\n"
          ]
        }
      ]
    },
    {
      "cell_type": "code",
      "source": [
        "y_hat = model.predict(validation_generator, batch_size=10)\n",
        "y_hat"
      ],
      "metadata": {
        "id": "A4zoscqGEmGU",
        "outputId": "23e33ddf-1453-4e3b-bf0d-8cc55ce785d1",
        "colab": {
          "base_uri": "https://localhost:8080/"
        }
      },
      "execution_count": 38,
      "outputs": [
        {
          "output_type": "stream",
          "name": "stdout",
          "text": [
            "10/10 [==============================] - 3s 289ms/step\n"
          ]
        },
        {
          "output_type": "execute_result",
          "data": {
            "text/plain": [
              "array([[1.40765635e-03, 9.98577237e-01, 1.21910116e-05, 1.33248341e-06,\n",
              "        1.51188704e-06],\n",
              "       [2.45733943e-04, 6.30571662e-07, 9.66212511e-01, 6.66067535e-06,\n",
              "        3.35343629e-02],\n",
              "       [2.70504052e-06, 4.89776085e-06, 9.99545038e-01, 6.45268117e-10,\n",
              "        4.47282364e-04],\n",
              "       ...,\n",
              "       [4.88945923e-04, 1.06622435e-08, 1.99228302e-02, 2.47781799e-07,\n",
              "        9.79587913e-01],\n",
              "       [3.89180593e-02, 1.69170462e-03, 5.85109112e-04, 9.58523452e-01,\n",
              "        2.81672459e-04],\n",
              "       [6.97670132e-02, 9.28763092e-01, 1.29217660e-04, 3.22851527e-04,\n",
              "        1.01778202e-03]], dtype=float32)"
            ]
          },
          "metadata": {},
          "execution_count": 38
        }
      ]
    },
    {
      "cell_type": "code",
      "source": [
        "prediction_class = np.argmax(y_hat, axis=1)\n",
        "prediction_class"
      ],
      "metadata": {
        "id": "h4UbbmFRGRwS",
        "outputId": "3380a0d2-d8e3-4baf-9c7c-4119620dd128",
        "colab": {
          "base_uri": "https://localhost:8080/"
        }
      },
      "execution_count": 32,
      "outputs": [
        {
          "output_type": "execute_result",
          "data": {
            "text/plain": [
              "array([2, 4, 2, ..., 1, 1, 4])"
            ]
          },
          "metadata": {},
          "execution_count": 32
        }
      ]
    },
    {
      "cell_type": "code",
      "source": [
        "validation_generator.classes"
      ],
      "metadata": {
        "id": "VZ4cNUIaG7J_",
        "outputId": "6f403299-9455-4392-d69b-17c1398bec6d",
        "colab": {
          "base_uri": "https://localhost:8080/"
        }
      },
      "execution_count": 34,
      "outputs": [
        {
          "output_type": "execute_result",
          "data": {
            "text/plain": [
              "array([0, 0, 0, ..., 4, 4, 4], dtype=int32)"
            ]
          },
          "metadata": {},
          "execution_count": 34
        }
      ]
    },
    {
      "cell_type": "code",
      "source": [
        "tf.math.confusion_matrix(validation_generator.classes,prediction_class)"
      ],
      "metadata": {
        "id": "6DO55QPoFd42",
        "outputId": "025d6de4-f7c7-450f-e695-36a2ab91b979",
        "colab": {
          "base_uri": "https://localhost:8080/"
        }
      },
      "execution_count": 36,
      "outputs": [
        {
          "output_type": "execute_result",
          "data": {
            "text/plain": [
              "<tf.Tensor: shape=(5, 5), dtype=int32, numpy=\n",
              "array([[32, 54, 31, 48, 46],\n",
              "       [51, 72, 44, 64, 69],\n",
              "       [46, 37, 46, 48, 37],\n",
              "       [46, 48, 31, 52, 56],\n",
              "       [40, 60, 42, 54, 71]], dtype=int32)>"
            ]
          },
          "metadata": {},
          "execution_count": 36
        }
      ]
    }
  ]
}